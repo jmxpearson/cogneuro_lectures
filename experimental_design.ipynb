{
 "cells": [
  {
   "cell_type": "markdown",
   "metadata": {},
   "source": [
    "# Why you should care:\n",
    "\n",
    "- Be a good scientist.\n",
    "- Replicability.\n",
    "- Journals and funders are not kidding now."
   ]
  },
  {
   "cell_type": "markdown",
   "metadata": {},
   "source": [
    "# The basic setup:\n",
    "\n",
    "In classical/frequentist stats, **probabilities are about the long run**.\n",
    "\n",
    "We assume:\n",
    "- an infinite series of experiments\n",
    "- each time\n",
    "    - we observe data $X$ (capital letters are random variables)\n",
    "    - we calculate some numbers (called *statistics*) based on these data $T(X)$ (also random)\n",
    "    - we make a decision based on these numbers $D(T(X))$\n",
    "- probability is about *what fraction of the time* these random variables take on specific values\n",
    "- (you could be Bayesian, but we'll get to that)"
   ]
  },
  {
   "cell_type": "markdown",
   "metadata": {},
   "source": [
    "## Example 1:\n",
    "\n",
    "We are going to measure reaction times of two groups of individuals:\n",
    "- data are the set of RTs for each subject\n",
    "- statistics are means of RT sets for each subject, population\n",
    "- decision is whether or not to reject the null hypothesis that groups are the same"
   ]
  },
  {
   "cell_type": "markdown",
   "metadata": {},
   "source": [
    "## Example 2:\n",
    "\n",
    "We are going to measure ERP responses multiple times in a single individual in multiple conditions:\n",
    "- data are the timecourses of ERP on each trial\n",
    "- statistics are, e.g., mean time course or mean of difference wave in a predefined epoch\n",
    "- decision is whether to reject the null hypothesis that the ERPs are the same"
   ]
  },
  {
   "cell_type": "markdown",
   "metadata": {},
   "source": [
    "## Example 3:\n",
    "\n",
    "We are going to treat depressive patients with TMS:\n",
    "- data are response metrics (self-reports, diaries, clinician ratings)\n",
    "- statistics are means, variances, something else?\n",
    "- decision is how much to dose next time"
   ]
  },
  {
   "cell_type": "markdown",
   "metadata": {},
   "source": [
    "## Bottom line:\n",
    "\n",
    "This is *very broad*.\n",
    "\n",
    "**Probability** is about making statements about long-term behavior in this setup well-defined.\n",
    "\n",
    "**Statistics** is about studying the properties of the quantities we calculate from data."
   ]
  },
  {
   "cell_type": "markdown",
   "metadata": {},
   "source": [
    "# How good is our procedure?\n",
    "\n",
    "For this lecture, we'll specialize to *binary decisions*: yes or no, accept or reject the null. **There's a lot more you can do!**"
   ]
  },
  {
   "cell_type": "markdown",
   "metadata": {},
   "source": [
    "## Basic signal detection\n",
    "\n",
    "Let's assume our decision is $D = 0$ or $D = 1$. The ground truth $GT$ is also 0 or 1, but we can get it wrong.\n",
    "\n",
    "A quick review:\n",
    "- $TP$: $P(D=1\\vert GT=1)$\n",
    "- $FN$: $P(D=0\\vert GT=1) = \\alpha$   (Type I)\n",
    "- $TN$: $P(D=0\\vert GT=0)$\n",
    "- $FP$: $P(D=1\\vert GT=0)=\\beta$    (Type II)\n",
    "\n",
    "Note:\n",
    "$$TP + FN = 1$$\n",
    "$$TN + FP = 1$$"
   ]
  },
  {
   "cell_type": "markdown",
   "metadata": {},
   "source": [
    "## Experimenter degrees of freedom\n",
    "\n",
    "What determines our error rates?\n",
    "- **You** get to determine what and how much data $X$ to collect.\n",
    "- **You** get to pick $T(X)$.\n",
    "- **You** get to pick the test $D(T(X))$.\n",
    "- **You** get to pick the threshold. (There usually is one.)"
   ]
  },
  {
   "cell_type": "markdown",
   "metadata": {},
   "source": [
    "## So how do we win?\n",
    "\n",
    "Pick a test that minimizes errors!\n",
    "\n",
    "**Sad fact**: True and false positive rates trade off as we vary decision threshold.\n",
    "\n",
    "![https://upload.wikimedia.org/wikipedia/commons/6/6b/Roccurves.png](https://upload.wikimedia.org/wikipedia/commons/6/6b/Roccurves.png)\n",
    "\n",
    "**But**: Not all tests are created equal! Some ROC curves lie up and to the left *at all points* relative to some other curves."
   ]
  },
  {
   "cell_type": "markdown",
   "metadata": {},
   "source": [
    "## An important result\n",
    "\n",
    "Traditionally, we cap false positive rates ($\\alpha$), which determines our decision threshold, and ask how we can minimize false negative rates ($\\beta$). This is equivalent to maximizing $1 - \\beta$, which we call *power*.\n",
    "\n",
    "In some cases, one can prove that there are *uniformly most powerful* (UMP) tests. In fact, \n",
    "\n",
    "**Theorem:** Tests based on ratios of likelihoods (~ probability of the data under each hypothesis) minimize error rates better than any other test. \n",
    "\n",
    "**Theorem (Neyman-Pearson):** If we fix our max false positive rate, then any other kind of test that lowers false positives will increase false negatives (relative to the likelihood ratio test)."
   ]
  },
  {
   "cell_type": "markdown",
   "metadata": {},
   "source": [
    "# Classical power analysis"
   ]
  },
  {
   "cell_type": "markdown",
   "metadata": {},
   "source": [
    "Again, we as experimenters have a few knobs to play with:\n",
    "\n",
    "- $N$: Number of measurments, amount of data\n",
    "- $T$: Statistic to compute (usually related to the test)\n",
    "- $\\alpha$: Acceptable false positive rate\n",
    "- $1 - \\beta$: Power\n",
    "\n",
    "For a few select distributions ($t$, $F$, $\\chi^2$, etc.), it's possible to calculate the relationships between these numbers."
   ]
  },
  {
   "cell_type": "code",
   "execution_count": 1,
   "metadata": {},
   "outputs": [
    {
     "data": {
      "image/png": "[encoded data removed]",
      "text/plain": [
       "<Figure size 600x400 with 1 Axes>"
      ]
     },
     "metadata": {},
     "output_type": "display_data"
    }
   ],
   "source": [
    "import numpy as np\n",
    "import statsmodels.stats.power as pwr\n",
    "import matplotlib.pyplot as plt\n",
    "%matplotlib inline\n",
    "\n",
    "tt = pwr.TTestPower()\n",
    "\n",
    "eff_sizes = np.linspace(0, 3, 50)\n",
    "sample_sizes = [2, 5, 10, 20]\n",
    "\n",
    "for N in sample_sizes:\n",
    "    plt.plot(eff_sizes, tt.solve_power(eff_sizes, nobs=N, alpha=0.05),\n",
    "            label=N);\n",
    "plt.title(\"Power as a function of sample size: t-test\")\n",
    "plt.xlabel(\"t statistic\")\n",
    "plt.ylabel(\"Power\")\n",
    "plt.legend(title=\"Sample size\");"
   ]
  },
  {
   "cell_type": "markdown",
   "metadata": {},
   "source": [
    "[credit](https://machinelearningmastery.com/statistical-power-and-power-analysis-in-python/)"
   ]
  },
  {
   "cell_type": "code",
   "execution_count": 2,
   "metadata": {},
   "outputs": [
    {
     "data": {
      "image/png": "[encoded data removed]",
      "text/plain": [
       "<Figure size 600x400 with 1 Axes>"
      ]
     },
     "metadata": {},
     "output_type": "display_data"
    }
   ],
   "source": [
    "eff_sizes = np.linspace(0.5, 3, 50)\n",
    "desired_power = [0.6, 0.7, 0.8, 0.9]\n",
    "n_array = np.empty([len(desired_power), len(eff_sizes)])\n",
    "for ii, pw in enumerate(desired_power):\n",
    "    for jj, eff in enumerate(eff_sizes):\n",
    "        n_array[ii, jj] = tt.solve_power(eff, power=pw, alpha=0.05)\n",
    "        \n",
    "plt.plot(eff_sizes, n_array.T)\n",
    "plt.title(\"Sample size as a function of test statistic\")\n",
    "plt.xlabel(\"t statistic\")\n",
    "plt.ylabel(\"Sample size\")\n",
    "plt.legend(labels=desired_power, title=\"Power\");"
   ]
  },
  {
   "cell_type": "markdown",
   "metadata": {},
   "source": [
    "# Back in the real world...\n",
    "\n",
    "You are probably not running a simple statistical test. Or if you are, you're not running just one.\n",
    "\n",
    "The only thing to do in this case is **simulate**."
   ]
  },
  {
   "cell_type": "markdown",
   "metadata": {},
   "source": [
    "## A simple example\n",
    "\n",
    "Let's assume we have a single neuron that responds to some stimulus by increasing \n",
    "its firing rate above baseline. That is, we'll observe this neuron for a whole\n",
    "series of brief stimulus presentations and count up all the spikes.\n",
    "\n",
    "**Dramatis Personae**:\n",
    "- $T$: observation time (seconds)\n",
    "- $\\lambda_0$: baseline firing rate of cell (spikes/second).\n",
    "- $s$: stimulus strength.\n",
    "- $\\beta$: firing rate effect (see below)\n",
    "- $C$: spike counts in the observation window\n",
    "\n",
    "We are going to fit these data with a [Generalized Linear Model](https://en.wikipedia.org/wiki/Generalized_linear_model) (GLM).\n",
    "The assumption of this model is that the counts are Poisson distributed:\n",
    "$$C \\sim \\mathrm{Poisson}(\\lambda T)$$\n",
    "with \n",
    "$$\\lambda = \\lambda_0 e^{\\beta s}$$\n",
    "(The assumption of the GLM is that log firing rates are linear, which is why we do this.)"
   ]
  },
  {
   "cell_type": "markdown",
   "metadata": {},
   "source": [
    "## 1. Make fake data"
   ]
  },
  {
   "cell_type": "code",
   "execution_count": 3,
   "metadata": {},
   "outputs": [],
   "source": [
    "np.random.seed(12345)  # for reproducibility\n",
    "T = 1.0\n",
    "lam0 = 10\n",
    "beta = 2\n",
    "s = 1"
   ]
  },
  {
   "cell_type": "code",
   "execution_count": 4,
   "metadata": {},
   "outputs": [
    {
     "name": "stderr",
     "output_type": "stream",
     "text": [
      "/Users/jmxp/anaconda/lib/python3.5/site-packages/statsmodels/compat/pandas.py:56: FutureWarning: The pandas.core.datetools module is deprecated and will be removed in a future version. Please use the pandas.tseries module instead.\n",
      "  from pandas.core import datetools\n"
     ]
    }
   ],
   "source": [
    "import scipy.stats as stats\n",
    "import statsmodels.api as sm\n",
    "import statsmodels.formula.api as smf\n",
    "\n",
    "ntrials = 50\n",
    "\n",
    "C = np.concatenate([stats.poisson.rvs(lam0 * T, size=ntrials), \n",
    "                    stats.poisson.rvs(lam0 * T * np.exp(beta * s), size=ntrials)])"
   ]
  },
  {
   "cell_type": "code",
   "execution_count": 5,
   "metadata": {},
   "outputs": [
    {
     "data": {
      "text/plain": [
       "Text(0.5,0,'Spike Count')"
      ]
     },
     "execution_count": 5,
     "metadata": {},
     "output_type": "execute_result"
    },
    {
     "data": {
      "image/png": "[encoded data removed]",
      "text/plain": [
       "<Figure size 600x400 with 1 Axes>"
      ]
     },
     "metadata": {},
     "output_type": "display_data"
    }
   ],
   "source": [
    "plt.hist(C, bins=100);\n",
    "plt.xlabel(\"Spike Count\")"
   ]
  },
  {
   "cell_type": "markdown",
   "metadata": {},
   "source": [
    "## 2. Analyze fake data"
   ]
  },
  {
   "cell_type": "code",
   "execution_count": 6,
   "metadata": {},
   "outputs": [
    {
     "data": {
      "text/html": [
       "<div>\n",
       "<style scoped>\n",
       "    .dataframe tbody tr th:only-of-type {\n",
       "        vertical-align: middle;\n",
       "    }\n",
       "\n",
       "    .dataframe tbody tr th {\n",
       "        vertical-align: top;\n",
       "    }\n",
       "\n",
       "    .dataframe thead th {\n",
       "        text-align: right;\n",
       "    }\n",
       "</style>\n",
       "<table border=\"1\" class=\"dataframe\">\n",
       "  <thead>\n",
       "    <tr style=\"text-align: right;\">\n",
       "      <th></th>\n",
       "      <th>count</th>\n",
       "      <th>stim</th>\n",
       "    </tr>\n",
       "  </thead>\n",
       "  <tbody>\n",
       "    <tr>\n",
       "      <th>0</th>\n",
       "      <td>16</td>\n",
       "      <td>0.0</td>\n",
       "    </tr>\n",
       "    <tr>\n",
       "      <th>1</th>\n",
       "      <td>7</td>\n",
       "      <td>0.0</td>\n",
       "    </tr>\n",
       "    <tr>\n",
       "      <th>2</th>\n",
       "      <td>11</td>\n",
       "      <td>0.0</td>\n",
       "    </tr>\n",
       "    <tr>\n",
       "      <th>3</th>\n",
       "      <td>18</td>\n",
       "      <td>0.0</td>\n",
       "    </tr>\n",
       "    <tr>\n",
       "      <th>4</th>\n",
       "      <td>12</td>\n",
       "      <td>0.0</td>\n",
       "    </tr>\n",
       "  </tbody>\n",
       "</table>\n",
       "</div>"
      ],
      "text/plain": [
       "   count  stim\n",
       "0     16   0.0\n",
       "1      7   0.0\n",
       "2     11   0.0\n",
       "3     18   0.0\n",
       "4     12   0.0"
      ]
     },
     "execution_count": 6,
     "metadata": {},
     "output_type": "execute_result"
    }
   ],
   "source": [
    "import pandas as pd\n",
    "\n",
    "df = pd.DataFrame({'count': C, 'stim': np.concatenate([np.zeros(ntrials), np.ones(ntrials)])})\n",
    "df.head()"
   ]
  },
  {
   "cell_type": "code",
   "execution_count": 7,
   "metadata": {},
   "outputs": [
    {
     "data": {
      "text/html": [
       "<table class=\"simpletable\">\n",
       "<caption>Generalized Linear Model Regression Results</caption>\n",
       "<tr>\n",
       "  <th>Dep. Variable:</th>        <td>count</td>      <th>  No. Observations:  </th>  <td>   100</td> \n",
       "</tr>\n",
       "<tr>\n",
       "  <th>Model:</th>                 <td>GLM</td>       <th>  Df Residuals:      </th>  <td>    98</td> \n",
       "</tr>\n",
       "<tr>\n",
       "  <th>Model Family:</th>        <td>Poisson</td>     <th>  Df Model:          </th>  <td>     1</td> \n",
       "</tr>\n",
       "<tr>\n",
       "  <th>Link Function:</th>         <td>log</td>       <th>  Scale:             </th>    <td>1.0</td>  \n",
       "</tr>\n",
       "<tr>\n",
       "  <th>Method:</th>               <td>IRLS</td>       <th>  Log-Likelihood:    </th> <td> -306.37</td>\n",
       "</tr>\n",
       "<tr>\n",
       "  <th>Date:</th>           <td>Mon, 10 Sep 2018</td> <th>  Deviance:          </th> <td>  97.221</td>\n",
       "</tr>\n",
       "<tr>\n",
       "  <th>Time:</th>               <td>13:11:03</td>     <th>  Pearson chi2:      </th>  <td>  96.1</td> \n",
       "</tr>\n",
       "<tr>\n",
       "  <th>No. Iterations:</th>         <td>5</td>        <th>                     </th>     <td> </td>   \n",
       "</tr>\n",
       "</table>\n",
       "<table class=\"simpletable\">\n",
       "<tr>\n",
       "      <td></td>         <th>coef</th>     <th>std err</th>      <th>z</th>      <th>P>|z|</th>  <th>[0.025</th>    <th>0.975]</th>  \n",
       "</tr>\n",
       "<tr>\n",
       "  <th>Intercept</th> <td>    2.3832</td> <td>    0.043</td> <td>   55.484</td> <td> 0.000</td> <td>    2.299</td> <td>    2.467</td>\n",
       "</tr>\n",
       "<tr>\n",
       "  <th>stim</th>      <td>    1.9042</td> <td>    0.046</td> <td>   41.358</td> <td> 0.000</td> <td>    1.814</td> <td>    1.994</td>\n",
       "</tr>\n",
       "</table>"
      ],
      "text/plain": [
       "<class 'statsmodels.iolib.summary.Summary'>\n",
       "\"\"\"\n",
       "                 Generalized Linear Model Regression Results                  \n",
       "==============================================================================\n",
       "Dep. Variable:                  count   No. Observations:                  100\n",
       "Model:                            GLM   Df Residuals:                       98\n",
       "Model Family:                 Poisson   Df Model:                            1\n",
       "Link Function:                    log   Scale:                             1.0\n",
       "Method:                          IRLS   Log-Likelihood:                -306.37\n",
       "Date:                Mon, 10 Sep 2018   Deviance:                       97.221\n",
       "Time:                        13:11:03   Pearson chi2:                     96.1\n",
       "No. Iterations:                     5                                         \n",
       "==============================================================================\n",
       "                 coef    std err          z      P>|z|      [0.025      0.975]\n",
       "------------------------------------------------------------------------------\n",
       "Intercept      2.3832      0.043     55.484      0.000       2.299       2.467\n",
       "stim           1.9042      0.046     41.358      0.000       1.814       1.994\n",
       "==============================================================================\n",
       "\"\"\""
      ]
     },
     "execution_count": 7,
     "metadata": {},
     "output_type": "execute_result"
    }
   ],
   "source": [
    "fit = smf.glm(formula=\"count ~ stim\", data=df, family=sm.families.Poisson()).fit()\n",
    "fit.summary()"
   ]
  },
  {
   "cell_type": "code",
   "execution_count": 8,
   "metadata": {},
   "outputs": [
    {
     "data": {
      "text/plain": [
       "(Intercept    0.0\n",
       " stim         0.0\n",
       " dtype: float64, True)"
      ]
     },
     "execution_count": 8,
     "metadata": {},
     "output_type": "execute_result"
    }
   ],
   "source": [
    "fit.pvalues, fit.pvalues['stim'] < 0.05"
   ]
  },
  {
   "cell_type": "markdown",
   "metadata": {},
   "source": [
    "## 3. Automate and repeat"
   ]
  },
  {
   "cell_type": "code",
   "execution_count": 9,
   "metadata": {},
   "outputs": [],
   "source": [
    "def run_expt(baseline, effect, T, stim, Ntrials):\n",
    "    # run a single synthetic experiment, return p-value for GLM\n",
    "    \n",
    "    baseline_rates = baseline * np.ones(Ntrials)\n",
    "    stim_rates = baseline * np.exp(effect * stim) * np.ones(Ntrials)\n",
    "    \n",
    "    # random counts\n",
    "    baseline_counts = stats.poisson.rvs(baseline_rates * T)\n",
    "    stim_counts = stats.poisson.rvs(stim_rates * T)\n",
    "    \n",
    "    # make data frame\n",
    "    df = pd.DataFrame({'count': np.concatenate([baseline_counts, stim_counts]), \n",
    "                       'stim': np.concatenate([np.zeros(ntrials), np.ones(ntrials)])})\n",
    "\n",
    "    # fit model\n",
    "    fit = smf.glm(formula=\"count ~ stim\", data=df, family=sm.families.Poisson()).fit()\n",
    "\n",
    "    # test\n",
    "    return fit.pvalues['stim']"
   ]
  },
  {
   "cell_type": "code",
   "execution_count": 10,
   "metadata": {},
   "outputs": [],
   "source": [
    "def calc_power(alpha, Nexpt, exptfun, *args):\n",
    "    # calculate power for an experiment defined by false positive rate alpha and repeated Nexpt times\n",
    "    # exptfun returns an object with a pvalue\n",
    "    # args are passed on to exptfun\n",
    "    \n",
    "    pvals = np.array([exptfun(*args) for _ in range(Nexpt)])\n",
    "    \n",
    "    return np.mean(pvals < alpha)"
   ]
  },
  {
   "cell_type": "code",
   "execution_count": 11,
   "metadata": {},
   "outputs": [
    {
     "data": {
      "text/plain": [
       "0.88"
      ]
     },
     "execution_count": 11,
     "metadata": {},
     "output_type": "execute_result"
    }
   ],
   "source": [
    "alpha = 0.05\n",
    "Nexpt = 100\n",
    "baseline = 10.  # firing rate in Hz\n",
    "T = 1.0\n",
    "effect = .2  # fractional change from baseline\n",
    "stim = 1\n",
    "Ntrials = 50  # number of trials for each stimulus\n",
    "\n",
    "calc_power(alpha, Nexpt, run_expt, baseline, effect, T, stim, Ntrials)"
   ]
  },
  {
   "cell_type": "code",
   "execution_count": 12,
   "metadata": {},
   "outputs": [],
   "source": [
    "effect_sizes = np.linspace(0.05, 0.4, 50)\n",
    "\n",
    "powers = np.array([calc_power(alpha, Nexpt, run_expt, baseline, eff, T, stim, Ntrials) for eff in effect_sizes])"
   ]
  },
  {
   "cell_type": "code",
   "execution_count": 13,
   "metadata": {},
   "outputs": [
    {
     "data": {
      "image/png": "[encoded data removed]",
      "text/plain": [
       "<Figure size 600x400 with 1 Axes>"
      ]
     },
     "metadata": {},
     "output_type": "display_data"
    }
   ],
   "source": [
    "plt.plot(effect_sizes, powers);\n",
    "plt.xlabel('Effect size (beta)')\n",
    "plt.ylabel('Power');"
   ]
  },
  {
   "cell_type": "markdown",
   "metadata": {},
   "source": [
    "Now, this is only a simple example. It ignores a lot of important sources of variance and\n",
    "so overestimates power. A somewhat more realistic example can be found [here](https://gist.github.com/jmxpearson/077407a40aaf967eb12db41b6c851f1d)."
   ]
  },
  {
   "cell_type": "markdown",
   "metadata": {},
   "source": [
    "# Final thoughts"
   ]
  },
  {
   "cell_type": "markdown",
   "metadata": {},
   "source": [
    "There is a vast, vast literature on designing experiments, but much of it is either\n",
    "restricted to simple cases (from the days when experiments were simpler and \n",
    "computation expensive) or geared toward clinical trials (where millions of dollars\n",
    "are at stake).\n",
    "\n",
    "Two options worth thinking about:\n",
    "- To do permutation testing, you have to simulate. So power analysis is not a big deal.\n",
    "- If you are a Bayesian, [you don't need it in the same way](https://link.springer.com/article/10.3758/s13423-014-0595-4).\n",
    "\n",
    "This is a place where there's a lot to be done in the next few years, as\n",
    "statistics and experimental design attempt to catch up to neuroscience praxis."
   ]
  }
 ],
 "metadata": {
  "kernelspec": {
   "display_name": "Python [anaconda]",
   "language": "python",
   "name": "Python [anaconda]"
  },
  "language_info": {
   "codemirror_mode": {
    "name": "ipython",
    "version": 3
   },
   "file_extension": ".py",
   "mimetype": "text/x-python",
   "name": "python",
   "nbconvert_exporter": "python",
   "pygments_lexer": "ipython3",
   "version": "3.5.6"
  }
 },
 "nbformat": 4,
 "nbformat_minor": 2
}
